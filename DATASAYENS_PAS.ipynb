{
  "nbformat": 4,
  "nbformat_minor": 0,
  "metadata": {
    "colab": {
      "provenance": []
    },
    "kernelspec": {
      "name": "python3",
      "display_name": "Python 3"
    },
    "language_info": {
      "name": "python"
    }
  },
  "cells": [
    {
      "cell_type": "code",
      "execution_count": 14,
      "metadata": {
        "colab": {
          "base_uri": "https://localhost:8080/"
        },
        "id": "V7w2POj0d4Ac",
        "outputId": "9a59df6a-69b4-4a90-90d8-4c780cb4f16f"
      },
      "outputs": [
        {
          "output_type": "stream",
          "name": "stdout",
          "text": [
            "seluruh keluaran dadu porbalitas 0.5\n",
            "seluruh keluaran dadu porbalitas 0.3333333333333333\n",
            "seluruh keluaran dadu porbalitas 0.6666666666666666\n",
            "seluruh keluaran dadu porbalitas 0.8333333333333334\n",
            "seluruh keluaran dadu porbalitas 1.0\n",
            "seluruh keluaran dadu porbalitas 0.16666666666666666\n",
            "seluruh keluaran dadu porbalitas 0.8333333333333334\n",
            "seluruh keluaran dadu porbalitas 1.0\n",
            "seluruh keluaran dadu porbalitas 0.5\n",
            "seluruh keluaran dadu porbalitas 0.3333333333333333\n",
            "seluruh keluaran dadu porbalitas 0.3333333333333333\n",
            "seluruh keluaran dadu porbalitas 0.16666666666666666\n",
            "seluruh keluaran dadu porbalitas 0.5\n",
            "seluruh keluaran dadu porbalitas 0.16666666666666666\n",
            "seluruh keluaran dadu porbalitas 0.8333333333333334\n"
          ]
        }
      ],
      "source": [
        "print('soal pertama')\n",
        "a=3\n",
        "b=2\n",
        "c=4\n",
        "d=5\n",
        "e=6\n",
        "f=1\n",
        "g=5\n",
        "h=6\n",
        "i=3\n",
        "j=2\n",
        "k=2\n",
        "l=1\n",
        "m=3\n",
        "n=1\n",
        "o=5\n",
        "\n",
        "dadu1 = (3/6)\n",
        "dadu2 = (2/6)\n",
        "dadu3 = (4/6)\n",
        "dadu4 = (5/6)\n",
        "dadu5 = (6/6)\n",
        "dadu6 = (1/6)\n",
        "dadu7 = (5/6)\n",
        "dadu8 = (6/6)\n",
        "dadu9 = (3/6)\n",
        "dadu10 = (2/6)\n",
        "dadu11 = (2/6)\n",
        "dadu12 = (1/6)\n",
        "dadu13 = (3/6)\n",
        "dadu14 = (1/6)\n",
        "dadu15 = (5/6)\n",
        "print(\"seluruh keluaran dadu porbalitas \" + str(dadu1)) \n",
        "print(\"seluruh keluaran dadu porbalitas \" + str(dadu2)) \n",
        "print(\"seluruh keluaran dadu porbalitas \" + str(dadu3)) \n",
        "print(\"seluruh keluaran dadu porbalitas \" + str(dadu4)) \n",
        "print(\"seluruh keluaran dadu porbalitas \" + str(dadu5)) \n",
        "print(\"seluruh keluaran dadu porbalitas \" + str(dadu6)) \n",
        "print(\"seluruh keluaran dadu porbalitas \" + str(dadu7)) \n",
        "print(\"seluruh keluaran dadu porbalitas \" + str(dadu8)) \n",
        "print(\"seluruh keluaran dadu porbalitas \" + str(dadu9)) \n",
        "print(\"seluruh keluaran dadu porbalitas \" + str(dadu10)) \n",
        "print(\"seluruh keluaran dadu porbalitas \" + str(dadu11)) \n",
        "print(\"seluruh keluaran dadu porbalitas \" + str(dadu12)) \n",
        "print(\"seluruh keluaran dadu porbalitas \" + str(dadu13)) \n",
        "print(\"seluruh keluaran dadu porbalitas \" + str(dadu14)) \n",
        "print(\"seluruh keluaran dadu porbalitas \" + str(dadu15)) "
      ]
    },
    {
      "cell_type": "code",
      "source": [
        "a=3\n",
        "b=2\n",
        "c=4\n",
        "d=5\n",
        "e=6\n",
        "f=1\n",
        "g=5\n",
        "h=6\n",
        "i=3\n",
        "j=2\n",
        "k=2\n",
        "l=1\n",
        "m=3\n",
        "n=1\n",
        "o=5\n",
        "percobaan = (3 + 2 + 4 + 5+ 6 + 1 + 5+ 6+ 3+ 2 + 2 + 1 + 3 + 1 + 5)\n",
        "print(\"seluruh percobaan \" + str(percobaan)) "
      ],
      "metadata": {
        "colab": {
          "base_uri": "https://localhost:8080/"
        },
        "id": "tVHqiPeMqKLV",
        "outputId": "7eaa1376-d748-402c-8a0f-0d04dd6debc2"
      },
      "execution_count": 32,
      "outputs": [
        {
          "output_type": "stream",
          "name": "stdout",
          "text": [
            "seluruh percobaan 49\n"
          ]
        }
      ]
    },
    {
      "cell_type": "code",
      "source": [
        "a=3\n",
        "b=2\n",
        "c=4\n",
        "d=1\n",
        "e=3\n",
        "f=2\n",
        "g=2\n",
        "h=1\n",
        "i=3\n",
        "j=1\n",
        "\n",
        "percobaan1 = (3 + 2 + 4 + 1 + 3 + 2 + 2 + 1 + 3 + 1)\n",
        "print(\"seluruh percobaan <5: \" + str(percobaan1)) "
      ],
      "metadata": {
        "colab": {
          "base_uri": "https://localhost:8080/"
        },
        "id": "GlVSLuQmr6iH",
        "outputId": "0db28b79-32eb-4034-e03b-ef98fc5e833f"
      },
      "execution_count": 22,
      "outputs": [
        {
          "output_type": "stream",
          "name": "stdout",
          "text": [
            "seluruh percobaan <5: 22\n"
          ]
        }
      ]
    },
    {
      "cell_type": "code",
      "source": [
        "a=9\n",
        "b=11\n",
        "c=3\n",
        "d=6\n",
        "e=2\n",
        "f=4\n",
        "g=9\n",
        "h=12\n",
        "i=10\n",
        "j=8\n",
        "k=2\n",
        "l=6\n",
        "m=3\n",
        "n=4\n",
        "o=9\n",
        "p=8\n",
        "q=5\n",
        "r=6\n",
        "s=11\n",
        "t=10\n",
        "\n",
        "dadu1 = (9/6)\n",
        "dadu2 = (11/6)\n",
        "dadu3 = (3/6)\n",
        "dadu4 = (6/6)\n",
        "dadu5 = (2/6)\n",
        "dadu6 = (4/6)\n",
        "dadu7 = (9/6)\n",
        "dadu8 = (12/6)\n",
        "dadu9 = (10/6)\n",
        "dadu10 = (8/6)\n",
        "dadu11 = (2/6)\n",
        "dadu12 = (6/6)\n",
        "dadu13 = (3/6)\n",
        "dadu14 = (4/6)\n",
        "dadu15 = (9/6)\n",
        "dadu16 = (8/6)\n",
        "dadu17 = (5/6)\n",
        "dadu18 = (6/6)\n",
        "dadu19 = (11/6)\n",
        "dadu20 = (10/6)\n",
        "print(\"seluruh keluaran dadu porbalitas \" + str(dadu1)) \n",
        "print(\"seluruh keluaran dadu porbalitas \" + str(dadu2)) \n",
        "print(\"seluruh keluaran dadu porbalitas \" + str(dadu3)) \n",
        "print(\"seluruh keluaran dadu porbalitas \" + str(dadu4)) \n",
        "print(\"seluruh keluaran dadu porbalitas \" + str(dadu5)) \n",
        "print(\"seluruh keluaran dadu porbalitas \" + str(dadu6)) \n",
        "print(\"seluruh keluaran dadu porbalitas \" + str(dadu7)) \n",
        "print(\"seluruh keluaran dadu porbalitas \" + str(dadu8)) \n",
        "print(\"seluruh keluaran dadu porbalitas \" + str(dadu9)) \n",
        "print(\"seluruh keluaran dadu porbalitas \" + str(dadu10)) \n",
        "print(\"seluruh keluaran dadu porbalitas \" + str(dadu11)) \n",
        "print(\"seluruh keluaran dadu porbalitas \" + str(dadu12)) \n",
        "print(\"seluruh keluaran dadu porbalitas \" + str(dadu13)) \n",
        "print(\"seluruh keluaran dadu porbalitas \" + str(dadu14)) \n",
        "print(\"seluruh keluaran dadu porbalitas \" + str(dadu15)) \n",
        "print(\"seluruh keluaran dadu porbalitas \" + str(dadu16)) \n",
        "print(\"seluruh keluaran dadu porbalitas \" + str(dadu17)) \n",
        "print(\"seluruh keluaran dadu porbalitas \" + str(dadu18)) \n",
        "print(\"seluruh keluaran dadu porbalitas \" + str(dadu19)) \n",
        "print(\"seluruh keluaran dadu porbalitas \" + str(dadu20)) "
      ],
      "metadata": {
        "colab": {
          "base_uri": "https://localhost:8080/"
        },
        "id": "pP7klR48tDen",
        "outputId": "4438ac55-4e3c-4a69-ff86-c39ef6d8836b"
      },
      "execution_count": 24,
      "outputs": [
        {
          "output_type": "stream",
          "name": "stdout",
          "text": [
            "seluruh keluaran dadu porbalitas 1.5\n",
            "seluruh keluaran dadu porbalitas 1.8333333333333333\n",
            "seluruh keluaran dadu porbalitas 0.5\n",
            "seluruh keluaran dadu porbalitas 1.0\n",
            "seluruh keluaran dadu porbalitas 0.3333333333333333\n",
            "seluruh keluaran dadu porbalitas 0.6666666666666666\n",
            "seluruh keluaran dadu porbalitas 1.5\n",
            "seluruh keluaran dadu porbalitas 2.0\n",
            "seluruh keluaran dadu porbalitas 1.6666666666666667\n",
            "seluruh keluaran dadu porbalitas 1.3333333333333333\n",
            "seluruh keluaran dadu porbalitas 0.3333333333333333\n",
            "seluruh keluaran dadu porbalitas 1.0\n",
            "seluruh keluaran dadu porbalitas 0.5\n",
            "seluruh keluaran dadu porbalitas 0.6666666666666666\n",
            "seluruh keluaran dadu porbalitas 1.5\n",
            "seluruh keluaran dadu porbalitas 1.3333333333333333\n",
            "seluruh keluaran dadu porbalitas 0.8333333333333334\n",
            "seluruh keluaran dadu porbalitas 1.0\n",
            "seluruh keluaran dadu porbalitas 1.8333333333333333\n",
            "seluruh keluaran dadu porbalitas 1.6666666666666667\n"
          ]
        }
      ]
    },
    {
      "cell_type": "code",
      "source": [
        "a=9\n",
        "b=11\n",
        "c=3\n",
        "d=6\n",
        "e=2\n",
        "f=4\n",
        "g=9\n",
        "h=12\n",
        "i=10\n",
        "j=8\n",
        "k=2\n",
        "l=6\n",
        "m=3\n",
        "n=4\n",
        "o=9\n",
        "p=8\n",
        "q=5\n",
        "r=6\n",
        "s=11\n",
        "t=10\n",
        "p = (9 + 11 + 3 + 6 + 2 + 4 + 9 + 12 + 10 + 8 + 2 + 6 + 3 + 4 + 9 + 8 + 5 + 6 + 11 + 10) \n",
        "print(\"seluruh keluaran dadu porbalitas \" + str(p)) "
      ],
      "metadata": {
        "colab": {
          "base_uri": "https://localhost:8080/"
        },
        "id": "yl5cBpU7uoaP",
        "outputId": "e692ad29-dcda-4b06-a2a0-d0c80ee7f751"
      },
      "execution_count": 30,
      "outputs": [
        {
          "output_type": "stream",
          "name": "stdout",
          "text": [
            "seluruh keluaran dadu porbalitas 138\n"
          ]
        }
      ]
    },
    {
      "cell_type": "code",
      "source": [
        "a=6\n",
        "b=2\n",
        "c=4\n",
        "d=12\n",
        "e=10\n",
        "f=8\n",
        "g=2\n",
        "h=6\n",
        "i=4\n",
        "j=8\n",
        "k=6\n",
        "l=10\n",
        "\n",
        "p1 = (a + b + c + d + e + f + g + h + i + j + k + l)\n",
        "print(\"seluruh bilangan genap \" + str(p1))"
      ],
      "metadata": {
        "colab": {
          "base_uri": "https://localhost:8080/"
        },
        "id": "cYQEN5s24rDM",
        "outputId": "d6dcc2c3-dbf3-4c62-a97b-31e410b39762"
      },
      "execution_count": 33,
      "outputs": [
        {
          "output_type": "stream",
          "name": "stdout",
          "text": [
            "seluruh bilangan genap 78\n"
          ]
        }
      ]
    },
    {
      "cell_type": "code",
      "source": [
        "print('soal kedua')\n",
        "\n",
        "print(\"minggu1\")\n",
        "a=6.560860\n",
        "b=5.950850\n",
        "c=12.685900\n",
        "d=5.768500\n",
        "e=2.989000\n",
        "minggu1 = (a + b + c + d + e)\n",
        "print(\"minggu pertama = \" + str(minggu1))\n",
        "\n",
        "print(\"minggu2\")\n",
        "a=8.782150\n",
        "b=6.620000\n",
        "c=5.128750\n",
        "d=5.217300\n",
        "e=4.820600\n",
        "minggu2 = (a + b + c + d + e)\n",
        "print(\"minggu kedua =  \" + str(minggu2))\n",
        "\n",
        "print(\"minggu3\")\n",
        "a=8.130940\n",
        "b=2.940650\n",
        "c=3.488200\n",
        "d=6.930540\n",
        "e=4.319260\n",
        "minggu3 = (a + b + c + d + e)\n",
        "print(\"minggu ketiga =  \" + str(minggu3))\n",
        "\n",
        "print(\"minggu4\")\n",
        "a=12.849100\n",
        "b=5.752200\n",
        "c=5.128400\n",
        "d=3.880490\n",
        "e=4.982100\n",
        "minggu4 = (a + b + c + d + e)\n",
        "print(\"minggu keempat =  \" + str(minggu4))\n"
      ],
      "metadata": {
        "colab": {
          "base_uri": "https://localhost:8080/"
        },
        "id": "J0viDa8LG2pf",
        "outputId": "c0e9d4c7-d810-4d95-9759-4502e80fe21f"
      },
      "execution_count": 44,
      "outputs": [
        {
          "output_type": "stream",
          "name": "stdout",
          "text": [
            "soal kedua\n",
            "minggu1\n",
            "minggu pertama = 33.95511\n",
            "minggu2\n",
            "minggu kedua =  30.568799999999996\n",
            "minggu3\n",
            "minggu ketiga =  25.80959\n",
            "minggu4\n",
            "minggu keempat =  32.592290000000006\n"
          ]
        }
      ]
    },
    {
      "cell_type": "code",
      "source": [
        "import matplotlib.pyplot as plt"
      ],
      "metadata": {
        "id": "quTc5xmmknOt"
      },
      "execution_count": 37,
      "outputs": []
    },
    {
      "cell_type": "code",
      "source": [
        "#cara menampilkan grafik bar\n",
        "fig = plt.figure()\n",
        "ax = fig.add_axes([0,0,1,1])\n",
        "mingguan = ['minggu1', 'minggu2', 'minggu3', 'minggu4' ]\n",
        "total_pendapatan = [33.95511, 30.568799999999996, 25.80959, 32.592290000000006]\n",
        "c = 'black', 'pink', 'blue'\n",
        "plt.title(\"Grafik Batang\")\n",
        "plt.bar(mingguan, total_pendapatan, color = c)\n",
        "plt.show()"
      ],
      "metadata": {
        "colab": {
          "base_uri": "https://localhost:8080/",
          "height": 352
        },
        "id": "TJ-zzGF1l4Wr",
        "outputId": "c8f9c9df-60c5-4907-a3d5-49a2404ae820"
      },
      "execution_count": 41,
      "outputs": [
        {
          "output_type": "display_data",
          "data": {
            "text/plain": [
              "<Figure size 432x288 with 1 Axes>"
            ],
            "image/png": "[encoded data removed]"
          },
          "metadata": {
            "needs_background": "light"
          }
        }
      ]
    },
    {
      "cell_type": "code",
      "source": [
        "#pie cahrt\n",
        "fig = plt.figure()\n",
        "ax = fig.add_axes([0,0,1,1])\n",
        "ax.axis('equal')\n",
        "mingguan = ['minggu1', 'minggu2', 'minggu3', 'minggu4' ]\n",
        "total_pendapatan = [33.95511, 30.568799999999996, 25.80959, 32.592290000000006]\n",
        "siswa = [90, 120, 130]\n",
        "ax.pie(total_pendapatan,labels=mingguan,autopct='%1.2f%%')\n",
        "plt.show()\n"
      ],
      "metadata": {
        "colab": {
          "base_uri": "https://localhost:8080/",
          "height": 319
        },
        "id": "cP7HM8gXmpvC",
        "outputId": "7e39b847-b391-4090-8918-a882474746de"
      },
      "execution_count": 45,
      "outputs": [
        {
          "output_type": "display_data",
          "data": {
            "text/plain": [
              "<Figure size 432x288 with 1 Axes>"
            ],
            "image/png": "[encoded data removed]"
          },
          "metadata": {}
        }
      ]
    },
    {
      "cell_type": "code",
      "source": [
        "import matplotlib.pyplot as plt\n",
        "\n",
        "#cara menampilkan scatter plot\n",
        "fig = plt.figure()\n",
        "ax =  fig.add_axes([0,0,1,1])\n",
        "minggu = ['minggu1','minggu2','minggu3','minggu4']\n",
        "jumlah=[33955110, 30568800, 30568800, 32592290]\n",
        "plt.title(\"toserba\")\n",
        "ax.scatter(minggu, jumlah,)\n",
        "plt.show()"
      ],
      "metadata": {
        "colab": {
          "base_uri": "https://localhost:8080/",
          "height": 347
        },
        "id": "X5xnKAyToCxG",
        "outputId": "41aa7cc4-ece0-44ee-c161-0d94d0542de7"
      },
      "execution_count": 70,
      "outputs": [
        {
          "output_type": "display_data",
          "data": {
            "text/plain": [
              "<Figure size 432x288 with 1 Axes>"
            ],
            "image/png": "[encoded data removed]"
          },
          "metadata": {}
        }
      ]
    },
    {
      "cell_type": "code",
      "source": [],
      "metadata": {
        "id": "yiiFmeNhtO8x"
      },
      "execution_count": null,
      "outputs": []
    }
  ]
}